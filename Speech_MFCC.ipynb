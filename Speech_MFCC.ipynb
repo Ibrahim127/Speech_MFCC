{
 "cells": [
  {
   "cell_type": "code",
   "execution_count": 3,
   "id": "56b65977-9428-4e5d-a04d-d4dacb1079c8",
   "metadata": {},
   "outputs": [],
   "source": [
    "import seaborn as sns\n",
    "import pandas as pd \n",
    "import numpy as np\n",
    "import  matplotlib.pyplot as plt\n",
    "import librosa\n",
    "import os"
   ]
  },
  {
   "cell_type": "code",
   "execution_count": 4,
   "id": "40e30b1a-115d-4f0e-9181-5d5d9e4d00d8",
   "metadata": {},
   "outputs": [
    {
     "data": {
      "text/html": [
       "<div>\n",
       "<style scoped>\n",
       "    .dataframe tbody tr th:only-of-type {\n",
       "        vertical-align: middle;\n",
       "    }\n",
       "\n",
       "    .dataframe tbody tr th {\n",
       "        vertical-align: top;\n",
       "    }\n",
       "\n",
       "    .dataframe thead th {\n",
       "        text-align: right;\n",
       "    }\n",
       "</style>\n",
       "<table border=\"1\" class=\"dataframe\">\n",
       "  <thead>\n",
       "    <tr style=\"text-align: right;\">\n",
       "      <th></th>\n",
       "      <th>client_id</th>\n",
       "      <th>path</th>\n",
       "      <th>sentence_id</th>\n",
       "      <th>sentence</th>\n",
       "      <th>sentence_domain</th>\n",
       "      <th>up_votes</th>\n",
       "      <th>down_votes</th>\n",
       "      <th>age</th>\n",
       "      <th>gender</th>\n",
       "      <th>accents</th>\n",
       "      <th>variant</th>\n",
       "      <th>locale</th>\n",
       "      <th>segment</th>\n",
       "    </tr>\n",
       "  </thead>\n",
       "  <tbody>\n",
       "    <tr>\n",
       "      <th>0</th>\n",
       "      <td>0e0501c09d84645ee7418e6bebbb87d59030031307c156...</td>\n",
       "      <td>common_voice_en_41047776.mp3</td>\n",
       "      <td>f05b13340f4242fbc3911588673c38d8d065cde77b605d...</td>\n",
       "      <td>The new division adopted the Lazarus nameplate...</td>\n",
       "      <td>NaN</td>\n",
       "      <td>2</td>\n",
       "      <td>0</td>\n",
       "      <td>NaN</td>\n",
       "      <td>NaN</td>\n",
       "      <td>United States English</td>\n",
       "      <td>NaN</td>\n",
       "      <td>en</td>\n",
       "      <td>NaN</td>\n",
       "    </tr>\n",
       "    <tr>\n",
       "      <th>1</th>\n",
       "      <td>134c70ef63c6d0b17ddbae435da077843802a711bb510b...</td>\n",
       "      <td>common_voice_en_41074651.mp3</td>\n",
       "      <td>f084aae0f1294fc56cf64aa06b48f27952a79e3b5aa7a6...</td>\n",
       "      <td>He was subsequently assigned to minor posts in...</td>\n",
       "      <td>NaN</td>\n",
       "      <td>3</td>\n",
       "      <td>0</td>\n",
       "      <td>thirties</td>\n",
       "      <td>non-binary</td>\n",
       "      <td>United States English,Maine</td>\n",
       "      <td>NaN</td>\n",
       "      <td>en</td>\n",
       "      <td>NaN</td>\n",
       "    </tr>\n",
       "    <tr>\n",
       "      <th>2</th>\n",
       "      <td>2ca636c915df1f93af996708934a5ea7eb437dfded2301...</td>\n",
       "      <td>common_voice_en_40884000.mp3</td>\n",
       "      <td>ee7ea141b3eb4ddfabc311da0550e6abd2f2e6457ae2a1...</td>\n",
       "      <td>The phrase originated in a comic strip of the ...</td>\n",
       "      <td>NaN</td>\n",
       "      <td>2</td>\n",
       "      <td>0</td>\n",
       "      <td>NaN</td>\n",
       "      <td>NaN</td>\n",
       "      <td>NaN</td>\n",
       "      <td>NaN</td>\n",
       "      <td>en</td>\n",
       "      <td>NaN</td>\n",
       "    </tr>\n",
       "    <tr>\n",
       "      <th>3</th>\n",
       "      <td>2e91e4bf7389040b3e898a756f0155ebde7eb41ea68470...</td>\n",
       "      <td>common_voice_en_41120986.mp3</td>\n",
       "      <td>f0ecf52a133a6f48f1a9bf503d995db0cf36139c11513c...</td>\n",
       "      <td>Gibson went on to manage the Department of Rec...</td>\n",
       "      <td>NaN</td>\n",
       "      <td>2</td>\n",
       "      <td>0</td>\n",
       "      <td>twenties</td>\n",
       "      <td>NaN</td>\n",
       "      <td>India and South Asia (India, Pakistan, Sri Lanka)</td>\n",
       "      <td>NaN</td>\n",
       "      <td>en</td>\n",
       "      <td>NaN</td>\n",
       "    </tr>\n",
       "    <tr>\n",
       "      <th>4</th>\n",
       "      <td>38a6ab913e27c72c3f28f3d2da65caa00933288bfaaa24...</td>\n",
       "      <td>common_voice_en_40983032.mp3</td>\n",
       "      <td>efe4e03f95b62047b25b5cadab7793fd1e517ea9fbac73...</td>\n",
       "      <td>On Sundays, four trains run each way, to Carli...</td>\n",
       "      <td>NaN</td>\n",
       "      <td>2</td>\n",
       "      <td>0</td>\n",
       "      <td>twenties</td>\n",
       "      <td>NaN</td>\n",
       "      <td>India and South Asia (India, Pakistan, Sri Lanka)</td>\n",
       "      <td>NaN</td>\n",
       "      <td>en</td>\n",
       "      <td>NaN</td>\n",
       "    </tr>\n",
       "  </tbody>\n",
       "</table>\n",
       "</div>"
      ],
      "text/plain": [
       "                                           client_id  \\\n",
       "0  0e0501c09d84645ee7418e6bebbb87d59030031307c156...   \n",
       "1  134c70ef63c6d0b17ddbae435da077843802a711bb510b...   \n",
       "2  2ca636c915df1f93af996708934a5ea7eb437dfded2301...   \n",
       "3  2e91e4bf7389040b3e898a756f0155ebde7eb41ea68470...   \n",
       "4  38a6ab913e27c72c3f28f3d2da65caa00933288bfaaa24...   \n",
       "\n",
       "                           path  \\\n",
       "0  common_voice_en_41047776.mp3   \n",
       "1  common_voice_en_41074651.mp3   \n",
       "2  common_voice_en_40884000.mp3   \n",
       "3  common_voice_en_41120986.mp3   \n",
       "4  common_voice_en_40983032.mp3   \n",
       "\n",
       "                                         sentence_id  \\\n",
       "0  f05b13340f4242fbc3911588673c38d8d065cde77b605d...   \n",
       "1  f084aae0f1294fc56cf64aa06b48f27952a79e3b5aa7a6...   \n",
       "2  ee7ea141b3eb4ddfabc311da0550e6abd2f2e6457ae2a1...   \n",
       "3  f0ecf52a133a6f48f1a9bf503d995db0cf36139c11513c...   \n",
       "4  efe4e03f95b62047b25b5cadab7793fd1e517ea9fbac73...   \n",
       "\n",
       "                                            sentence sentence_domain  \\\n",
       "0  The new division adopted the Lazarus nameplate...             NaN   \n",
       "1  He was subsequently assigned to minor posts in...             NaN   \n",
       "2  The phrase originated in a comic strip of the ...             NaN   \n",
       "3  Gibson went on to manage the Department of Rec...             NaN   \n",
       "4  On Sundays, four trains run each way, to Carli...             NaN   \n",
       "\n",
       "   up_votes  down_votes       age      gender  \\\n",
       "0         2           0       NaN         NaN   \n",
       "1         3           0  thirties  non-binary   \n",
       "2         2           0       NaN         NaN   \n",
       "3         2           0  twenties         NaN   \n",
       "4         2           0  twenties         NaN   \n",
       "\n",
       "                                             accents  variant locale  segment  \n",
       "0                              United States English      NaN     en      NaN  \n",
       "1                        United States English,Maine      NaN     en      NaN  \n",
       "2                                                NaN      NaN     en      NaN  \n",
       "3  India and South Asia (India, Pakistan, Sri Lanka)      NaN     en      NaN  \n",
       "4  India and South Asia (India, Pakistan, Sri Lanka)      NaN     en      NaN  "
      ]
     },
     "execution_count": 4,
     "metadata": {},
     "output_type": "execute_result"
    }
   ],
   "source": [
    "meta_data_path = 'validated.tsv'\n",
    "meta_data = pd.read_csv(meta_data_path,sep = '\\t')\n",
    "meta_data.head() "
   ]
  },
  {
   "cell_type": "code",
   "execution_count": 5,
   "id": "d165a1d3-34fd-49bc-89a1-9eba46779e6b",
   "metadata": {},
   "outputs": [
    {
     "name": "stdout",
     "output_type": "stream",
     "text": [
      "<class 'pandas.core.frame.DataFrame'>\n",
      "RangeIndex: 137 entries, 0 to 136\n",
      "Data columns (total 13 columns):\n",
      " #   Column           Non-Null Count  Dtype  \n",
      "---  ------           --------------  -----  \n",
      " 0   client_id        137 non-null    object \n",
      " 1   path             137 non-null    object \n",
      " 2   sentence_id      137 non-null    object \n",
      " 3   sentence         137 non-null    object \n",
      " 4   sentence_domain  1 non-null      object \n",
      " 5   up_votes         137 non-null    int64  \n",
      " 6   down_votes       137 non-null    int64  \n",
      " 7   age              117 non-null    object \n",
      " 8   gender           91 non-null     object \n",
      " 9   accents          136 non-null    object \n",
      " 10  variant          0 non-null      float64\n",
      " 11  locale           137 non-null    object \n",
      " 12  segment          0 non-null      float64\n",
      "dtypes: float64(2), int64(2), object(9)\n",
      "memory usage: 14.0+ KB\n"
     ]
    }
   ],
   "source": [
    "meta_data.info()"
   ]
  },
  {
   "cell_type": "code",
   "execution_count": 6,
   "id": "d4fb7893-5303-4edb-b00a-bf5332293deb",
   "metadata": {},
   "outputs": [
    {
     "data": {
      "text/plain": [
       "array([nan, 'thirties', 'twenties', 'fourties', 'fifties', 'sixties',\n",
       "       'teens'], dtype=object)"
      ]
     },
     "execution_count": 6,
     "metadata": {},
     "output_type": "execute_result"
    }
   ],
   "source": [
    "meta_data['age'].unique()"
   ]
  },
  {
   "cell_type": "code",
   "execution_count": 11,
   "id": "c3f9dd73-3838-45c6-853e-52606b1b7f7f",
   "metadata": {},
   "outputs": [
    {
     "data": {
      "text/plain": [
       "gender\n",
       "male_masculine     57\n",
       "female_feminine    30\n",
       "non-binary          4\n",
       "Name: count, dtype: int64"
      ]
     },
     "execution_count": 11,
     "metadata": {},
     "output_type": "execute_result"
    }
   ],
   "source": [
    "meta_data['gender'].value_counts()"
   ]
  },
  {
   "cell_type": "code",
   "execution_count": 13,
   "id": "0ed50a65-73ba-4850-ac89-b378e97679de",
   "metadata": {},
   "outputs": [
    {
     "data": {
      "text/plain": [
       "age\n",
       "thirties    66\n",
       "twenties    30\n",
       "fourties     8\n",
       "sixties      7\n",
       "teens        4\n",
       "fifties      2\n",
       "Name: count, dtype: int64"
      ]
     },
     "execution_count": 13,
     "metadata": {},
     "output_type": "execute_result"
    }
   ],
   "source": [
    "meta_data['age'].value_counts()"
   ]
  },
  {
   "cell_type": "markdown",
   "id": "2f67221e-4cb3-4e32-bb70-581b00d037c7",
   "metadata": {},
   "source": [
    "__Ages didnt work out due to bad data spread I will work with genders instead__"
   ]
  },
  {
   "cell_type": "code",
   "execution_count": 16,
   "id": "b0ccc16b-a77b-474b-8dd8-1b109254feea",
   "metadata": {},
   "outputs": [
    {
     "data": {
      "text/plain": [
       "array([nan, 'non-binary', 'female_feminine', 'male_masculine'],\n",
       "      dtype=object)"
      ]
     },
     "execution_count": 16,
     "metadata": {},
     "output_type": "execute_result"
    }
   ],
   "source": [
    "meta_data['gender'].unique()"
   ]
  },
  {
   "cell_type": "code",
   "execution_count": 18,
   "id": "cf37719a-a968-4483-9873-923fcadbfbc1",
   "metadata": {},
   "outputs": [
    {
     "data": {
      "text/html": [
       "<div>\n",
       "<style scoped>\n",
       "    .dataframe tbody tr th:only-of-type {\n",
       "        vertical-align: middle;\n",
       "    }\n",
       "\n",
       "    .dataframe tbody tr th {\n",
       "        vertical-align: top;\n",
       "    }\n",
       "\n",
       "    .dataframe thead th {\n",
       "        text-align: right;\n",
       "    }\n",
       "</style>\n",
       "<table border=\"1\" class=\"dataframe\">\n",
       "  <thead>\n",
       "    <tr style=\"text-align: right;\">\n",
       "      <th></th>\n",
       "      <th>client_id</th>\n",
       "      <th>path</th>\n",
       "      <th>sentence_id</th>\n",
       "      <th>sentence</th>\n",
       "      <th>sentence_domain</th>\n",
       "      <th>up_votes</th>\n",
       "      <th>down_votes</th>\n",
       "      <th>age</th>\n",
       "      <th>gender</th>\n",
       "      <th>accents</th>\n",
       "      <th>variant</th>\n",
       "      <th>locale</th>\n",
       "      <th>segment</th>\n",
       "    </tr>\n",
       "  </thead>\n",
       "  <tbody>\n",
       "    <tr>\n",
       "      <th>5</th>\n",
       "      <td>3a7e562f91be204271351929b01fc4358096dc524cb7b9...</td>\n",
       "      <td>common_voice_en_40869109.mp3</td>\n",
       "      <td>ee8ca1eb707ac794543eff0b85e3a10d3e1cf3f8086eb6...</td>\n",
       "      <td>There is a police station on the main road.</td>\n",
       "      <td>NaN</td>\n",
       "      <td>4</td>\n",
       "      <td>0</td>\n",
       "      <td>twenties</td>\n",
       "      <td>female_feminine</td>\n",
       "      <td>United States English</td>\n",
       "      <td>NaN</td>\n",
       "      <td>en</td>\n",
       "      <td>NaN</td>\n",
       "    </tr>\n",
       "    <tr>\n",
       "      <th>16</th>\n",
       "      <td>058fe5b1170aa09ef3f1092b179384639bc46ac53c1675...</td>\n",
       "      <td>common_voice_en_40953263.mp3</td>\n",
       "      <td>ef7d3c34147f1c5a00e31cd999a0d0a84ceeb7739d8957...</td>\n",
       "      <td>Switzerland has qualified a single athlete in ...</td>\n",
       "      <td>NaN</td>\n",
       "      <td>3</td>\n",
       "      <td>0</td>\n",
       "      <td>fifties</td>\n",
       "      <td>female_feminine</td>\n",
       "      <td>United States English,Washington State</td>\n",
       "      <td>NaN</td>\n",
       "      <td>en</td>\n",
       "      <td>NaN</td>\n",
       "    </tr>\n",
       "    <tr>\n",
       "      <th>17</th>\n",
       "      <td>058fe5b1170aa09ef3f1092b179384639bc46ac53c1675...</td>\n",
       "      <td>common_voice_en_40953264.mp3</td>\n",
       "      <td>ef7d69e22a866a46a16f0b90ddd54922ac207a2537ebb5...</td>\n",
       "      <td>He was the son of Cherubino Bartoli.</td>\n",
       "      <td>NaN</td>\n",
       "      <td>3</td>\n",
       "      <td>0</td>\n",
       "      <td>fifties</td>\n",
       "      <td>female_feminine</td>\n",
       "      <td>United States English,Washington State</td>\n",
       "      <td>NaN</td>\n",
       "      <td>en</td>\n",
       "      <td>NaN</td>\n",
       "    </tr>\n",
       "    <tr>\n",
       "      <th>20</th>\n",
       "      <td>29b8505586cd43382cd695da6b943f401104be710a5b60...</td>\n",
       "      <td>common_voice_en_40917961.mp3</td>\n",
       "      <td>eed75185fd41c53dad1796185f54719dd52377e960be22...</td>\n",
       "      <td>The main type of crops grown are potatoes, car...</td>\n",
       "      <td>NaN</td>\n",
       "      <td>2</td>\n",
       "      <td>0</td>\n",
       "      <td>fourties</td>\n",
       "      <td>female_feminine</td>\n",
       "      <td>Scottish English</td>\n",
       "      <td>NaN</td>\n",
       "      <td>en</td>\n",
       "      <td>NaN</td>\n",
       "    </tr>\n",
       "    <tr>\n",
       "      <th>21</th>\n",
       "      <td>29b8505586cd43382cd695da6b943f401104be710a5b60...</td>\n",
       "      <td>common_voice_en_40929013.mp3</td>\n",
       "      <td>ef246e273a7bad578bd652a47a1338fd709721138610fd...</td>\n",
       "      <td>The park covers an area with four small island...</td>\n",
       "      <td>NaN</td>\n",
       "      <td>2</td>\n",
       "      <td>0</td>\n",
       "      <td>fourties</td>\n",
       "      <td>female_feminine</td>\n",
       "      <td>Scottish English</td>\n",
       "      <td>NaN</td>\n",
       "      <td>en</td>\n",
       "      <td>NaN</td>\n",
       "    </tr>\n",
       "  </tbody>\n",
       "</table>\n",
       "</div>"
      ],
      "text/plain": [
       "                                            client_id  \\\n",
       "5   3a7e562f91be204271351929b01fc4358096dc524cb7b9...   \n",
       "16  058fe5b1170aa09ef3f1092b179384639bc46ac53c1675...   \n",
       "17  058fe5b1170aa09ef3f1092b179384639bc46ac53c1675...   \n",
       "20  29b8505586cd43382cd695da6b943f401104be710a5b60...   \n",
       "21  29b8505586cd43382cd695da6b943f401104be710a5b60...   \n",
       "\n",
       "                            path  \\\n",
       "5   common_voice_en_40869109.mp3   \n",
       "16  common_voice_en_40953263.mp3   \n",
       "17  common_voice_en_40953264.mp3   \n",
       "20  common_voice_en_40917961.mp3   \n",
       "21  common_voice_en_40929013.mp3   \n",
       "\n",
       "                                          sentence_id  \\\n",
       "5   ee8ca1eb707ac794543eff0b85e3a10d3e1cf3f8086eb6...   \n",
       "16  ef7d3c34147f1c5a00e31cd999a0d0a84ceeb7739d8957...   \n",
       "17  ef7d69e22a866a46a16f0b90ddd54922ac207a2537ebb5...   \n",
       "20  eed75185fd41c53dad1796185f54719dd52377e960be22...   \n",
       "21  ef246e273a7bad578bd652a47a1338fd709721138610fd...   \n",
       "\n",
       "                                             sentence sentence_domain  \\\n",
       "5         There is a police station on the main road.             NaN   \n",
       "16  Switzerland has qualified a single athlete in ...             NaN   \n",
       "17               He was the son of Cherubino Bartoli.             NaN   \n",
       "20  The main type of crops grown are potatoes, car...             NaN   \n",
       "21  The park covers an area with four small island...             NaN   \n",
       "\n",
       "    up_votes  down_votes       age           gender  \\\n",
       "5          4           0  twenties  female_feminine   \n",
       "16         3           0   fifties  female_feminine   \n",
       "17         3           0   fifties  female_feminine   \n",
       "20         2           0  fourties  female_feminine   \n",
       "21         2           0  fourties  female_feminine   \n",
       "\n",
       "                                   accents  variant locale  segment  \n",
       "5                    United States English      NaN     en      NaN  \n",
       "16  United States English,Washington State      NaN     en      NaN  \n",
       "17  United States English,Washington State      NaN     en      NaN  \n",
       "20                        Scottish English      NaN     en      NaN  \n",
       "21                        Scottish English      NaN     en      NaN  "
      ]
     },
     "execution_count": 18,
     "metadata": {},
     "output_type": "execute_result"
    }
   ],
   "source": [
    "filtered_metadata = meta_data[\n",
    "    (meta_data['gender'].isin(['female_feminine', 'male_masculine']))\n",
    "] \n",
    "\n",
    "filtered_metadata.head() "
   ]
  },
  {
   "cell_type": "code",
   "execution_count": 20,
   "id": "64229528-d6aa-4f8c-8403-c65a4ab5cd34",
   "metadata": {},
   "outputs": [
    {
     "data": {
      "text/plain": [
       "(87, 13)"
      ]
     },
     "execution_count": 20,
     "metadata": {},
     "output_type": "execute_result"
    }
   ],
   "source": [
    "filtered_metadata.shape"
   ]
  },
  {
   "cell_type": "code",
   "execution_count": 22,
   "id": "68817c17-e402-4b19-9b6a-49522fa2a89c",
   "metadata": {},
   "outputs": [],
   "source": [
    "male= filtered_metadata[filtered_metadata['gender'] == 'male_masculine'][['client_id','path', 'age','gender','sentence']]\n",
    "female= filtered_metadata[filtered_metadata['gender'] == 'female_feminine'][['client_id','path', 'age','gender','sentence']]"
   ]
  },
  {
   "cell_type": "code",
   "execution_count": 24,
   "id": "5429bcd2-d521-4bc7-91b9-fd57590bb59c",
   "metadata": {},
   "outputs": [
    {
     "data": {
      "text/html": [
       "<div>\n",
       "<style scoped>\n",
       "    .dataframe tbody tr th:only-of-type {\n",
       "        vertical-align: middle;\n",
       "    }\n",
       "\n",
       "    .dataframe tbody tr th {\n",
       "        vertical-align: top;\n",
       "    }\n",
       "\n",
       "    .dataframe thead th {\n",
       "        text-align: right;\n",
       "    }\n",
       "</style>\n",
       "<table border=\"1\" class=\"dataframe\">\n",
       "  <thead>\n",
       "    <tr style=\"text-align: right;\">\n",
       "      <th></th>\n",
       "      <th>client_id</th>\n",
       "      <th>path</th>\n",
       "      <th>age</th>\n",
       "      <th>gender</th>\n",
       "      <th>sentence</th>\n",
       "    </tr>\n",
       "  </thead>\n",
       "  <tbody>\n",
       "    <tr>\n",
       "      <th>26</th>\n",
       "      <td>a97730f86fa90560ae105669364412a9ad393b32839d01...</td>\n",
       "      <td>common_voice_en_40920578.mp3</td>\n",
       "      <td>sixties</td>\n",
       "      <td>male_masculine</td>\n",
       "      <td>Chlorogenic acid is freely soluble in ethanol ...</td>\n",
       "    </tr>\n",
       "    <tr>\n",
       "      <th>27</th>\n",
       "      <td>a97730f86fa90560ae105669364412a9ad393b32839d01...</td>\n",
       "      <td>common_voice_en_40963465.mp3</td>\n",
       "      <td>sixties</td>\n",
       "      <td>male_masculine</td>\n",
       "      <td>His writings during this period are considered...</td>\n",
       "    </tr>\n",
       "    <tr>\n",
       "      <th>51</th>\n",
       "      <td>9430e5e18fd4eaabcbe041177c7860fa75aec9407d276e...</td>\n",
       "      <td>common_voice_en_40867353.mp3</td>\n",
       "      <td>thirties</td>\n",
       "      <td>male_masculine</td>\n",
       "      <td>The definite article, you might say.</td>\n",
       "    </tr>\n",
       "    <tr>\n",
       "      <th>52</th>\n",
       "      <td>9430e5e18fd4eaabcbe041177c7860fa75aec9407d276e...</td>\n",
       "      <td>common_voice_en_40867368.mp3</td>\n",
       "      <td>thirties</td>\n",
       "      <td>male_masculine</td>\n",
       "      <td>In the spring quarter, first-year students com...</td>\n",
       "    </tr>\n",
       "    <tr>\n",
       "      <th>53</th>\n",
       "      <td>9430e5e18fd4eaabcbe041177c7860fa75aec9407d276e...</td>\n",
       "      <td>common_voice_en_40867372.mp3</td>\n",
       "      <td>thirties</td>\n",
       "      <td>male_masculine</td>\n",
       "      <td>Did our first parents continue in the estate w...</td>\n",
       "    </tr>\n",
       "  </tbody>\n",
       "</table>\n",
       "</div>"
      ],
      "text/plain": [
       "                                            client_id  \\\n",
       "26  a97730f86fa90560ae105669364412a9ad393b32839d01...   \n",
       "27  a97730f86fa90560ae105669364412a9ad393b32839d01...   \n",
       "51  9430e5e18fd4eaabcbe041177c7860fa75aec9407d276e...   \n",
       "52  9430e5e18fd4eaabcbe041177c7860fa75aec9407d276e...   \n",
       "53  9430e5e18fd4eaabcbe041177c7860fa75aec9407d276e...   \n",
       "\n",
       "                            path       age          gender  \\\n",
       "26  common_voice_en_40920578.mp3   sixties  male_masculine   \n",
       "27  common_voice_en_40963465.mp3   sixties  male_masculine   \n",
       "51  common_voice_en_40867353.mp3  thirties  male_masculine   \n",
       "52  common_voice_en_40867368.mp3  thirties  male_masculine   \n",
       "53  common_voice_en_40867372.mp3  thirties  male_masculine   \n",
       "\n",
       "                                             sentence  \n",
       "26  Chlorogenic acid is freely soluble in ethanol ...  \n",
       "27  His writings during this period are considered...  \n",
       "51               The definite article, you might say.  \n",
       "52  In the spring quarter, first-year students com...  \n",
       "53  Did our first parents continue in the estate w...  "
      ]
     },
     "execution_count": 24,
     "metadata": {},
     "output_type": "execute_result"
    }
   ],
   "source": [
    "male.head()"
   ]
  },
  {
   "cell_type": "code",
   "execution_count": 26,
   "id": "d553d7bb-0d8c-4f1d-90d5-6eb3c3628546",
   "metadata": {},
   "outputs": [
    {
     "data": {
      "text/html": [
       "<div>\n",
       "<style scoped>\n",
       "    .dataframe tbody tr th:only-of-type {\n",
       "        vertical-align: middle;\n",
       "    }\n",
       "\n",
       "    .dataframe tbody tr th {\n",
       "        vertical-align: top;\n",
       "    }\n",
       "\n",
       "    .dataframe thead th {\n",
       "        text-align: right;\n",
       "    }\n",
       "</style>\n",
       "<table border=\"1\" class=\"dataframe\">\n",
       "  <thead>\n",
       "    <tr style=\"text-align: right;\">\n",
       "      <th></th>\n",
       "      <th>client_id</th>\n",
       "      <th>path</th>\n",
       "      <th>age</th>\n",
       "      <th>gender</th>\n",
       "      <th>sentence</th>\n",
       "    </tr>\n",
       "  </thead>\n",
       "  <tbody>\n",
       "    <tr>\n",
       "      <th>5</th>\n",
       "      <td>3a7e562f91be204271351929b01fc4358096dc524cb7b9...</td>\n",
       "      <td>common_voice_en_40869109.mp3</td>\n",
       "      <td>twenties</td>\n",
       "      <td>female_feminine</td>\n",
       "      <td>There is a police station on the main road.</td>\n",
       "    </tr>\n",
       "    <tr>\n",
       "      <th>16</th>\n",
       "      <td>058fe5b1170aa09ef3f1092b179384639bc46ac53c1675...</td>\n",
       "      <td>common_voice_en_40953263.mp3</td>\n",
       "      <td>fifties</td>\n",
       "      <td>female_feminine</td>\n",
       "      <td>Switzerland has qualified a single athlete in ...</td>\n",
       "    </tr>\n",
       "    <tr>\n",
       "      <th>17</th>\n",
       "      <td>058fe5b1170aa09ef3f1092b179384639bc46ac53c1675...</td>\n",
       "      <td>common_voice_en_40953264.mp3</td>\n",
       "      <td>fifties</td>\n",
       "      <td>female_feminine</td>\n",
       "      <td>He was the son of Cherubino Bartoli.</td>\n",
       "    </tr>\n",
       "    <tr>\n",
       "      <th>20</th>\n",
       "      <td>29b8505586cd43382cd695da6b943f401104be710a5b60...</td>\n",
       "      <td>common_voice_en_40917961.mp3</td>\n",
       "      <td>fourties</td>\n",
       "      <td>female_feminine</td>\n",
       "      <td>The main type of crops grown are potatoes, car...</td>\n",
       "    </tr>\n",
       "    <tr>\n",
       "      <th>21</th>\n",
       "      <td>29b8505586cd43382cd695da6b943f401104be710a5b60...</td>\n",
       "      <td>common_voice_en_40929013.mp3</td>\n",
       "      <td>fourties</td>\n",
       "      <td>female_feminine</td>\n",
       "      <td>The park covers an area with four small island...</td>\n",
       "    </tr>\n",
       "  </tbody>\n",
       "</table>\n",
       "</div>"
      ],
      "text/plain": [
       "                                            client_id  \\\n",
       "5   3a7e562f91be204271351929b01fc4358096dc524cb7b9...   \n",
       "16  058fe5b1170aa09ef3f1092b179384639bc46ac53c1675...   \n",
       "17  058fe5b1170aa09ef3f1092b179384639bc46ac53c1675...   \n",
       "20  29b8505586cd43382cd695da6b943f401104be710a5b60...   \n",
       "21  29b8505586cd43382cd695da6b943f401104be710a5b60...   \n",
       "\n",
       "                            path       age           gender  \\\n",
       "5   common_voice_en_40869109.mp3  twenties  female_feminine   \n",
       "16  common_voice_en_40953263.mp3   fifties  female_feminine   \n",
       "17  common_voice_en_40953264.mp3   fifties  female_feminine   \n",
       "20  common_voice_en_40917961.mp3  fourties  female_feminine   \n",
       "21  common_voice_en_40929013.mp3  fourties  female_feminine   \n",
       "\n",
       "                                             sentence  \n",
       "5         There is a police station on the main road.  \n",
       "16  Switzerland has qualified a single athlete in ...  \n",
       "17               He was the son of Cherubino Bartoli.  \n",
       "20  The main type of crops grown are potatoes, car...  \n",
       "21  The park covers an area with four small island...  "
      ]
     },
     "execution_count": 26,
     "metadata": {},
     "output_type": "execute_result"
    }
   ],
   "source": [
    "female.head()"
   ]
  },
  {
   "cell_type": "markdown",
   "id": "d26b7644-f172-428b-a9b8-d4cdfe067469",
   "metadata": {},
   "source": [
    "__Preprocessing is done\n",
    "Now it's time to implement mfccs on males and females then compare them with eachother__"
   ]
  },
  {
   "cell_type": "code",
   "execution_count": 29,
   "id": "9ffddd5f-8602-48fa-af19-1f5ab69e226f",
   "metadata": {},
   "outputs": [],
   "source": [
    "# def mfcc(audio_path, sr=16000, n_mfcc=13):\n",
    "#     y, _ = librosa.load(audio_path, sr=sr)\n",
    "#     mfcc = librosa.feature.mfcc(y=y, sr=sr, n_mfcc=n_mfcc)\n",
    "#     np.savetxt('mfcc_features.csv', mfcc, delimiter=',')\n",
    "#     return mfcc\n",
    "\n",
    "#ValueError: setting an array element with a sequence.\n",
    "# The requested array has an inhomogeneous shape after 1 dimensions.\n",
    "# The detected shape was (57,) + inhomogeneous part.\n",
    "\n",
    "def get_mfcc(file_path, output_file='mfcc_features_final.csv', n_mfcc=13, max_length=200):\n",
    "    \n",
    "    y, sr = librosa.load(file_path, sr=16000)\n",
    "    mfcc = librosa.feature.mfcc(y=y, sr=sr, n_mfcc=n_mfcc)\n",
    "    if mfcc.shape[1] < max_length:\n",
    "        mfcc = np.pad(mfcc, ((0, 0), (0, max_length - mfcc.shape[1])), mode='constant')\n",
    "    else:\n",
    "        mfcc = mfcc[:, :max_length]\n",
    "\n",
    "    mfcc = mfcc.T\n",
    "    with open(output_file, 'a') as f:\n",
    "        np.savetxt(f, mfcc, delimiter=',')\n",
    "\n",
    "\n",
    "    return mfcc\n"
   ]
  },
  {
   "cell_type": "code",
   "execution_count": 42,
   "id": "8d8a6209-ba98-41ee-b9a8-50a0d6fc8aa9",
   "metadata": {},
   "outputs": [],
   "source": [
    "def compute_mfcc_statistics(df, folder_path='Clips', output_file='mfcc_features.csv'):\n",
    "    global mfccs\n",
    "    global mfcc_list\n",
    "    mfcc_list = []\n",
    "    mfccs = []\n",
    "    for path in df['path']:\n",
    "        full_path = os.path.join(folder_path, path)\n",
    "        mfcc = get_mfcc(full_path, output_file=output_file)  \n",
    "        mfccs.append(mfcc)\n",
    "        mfcc_list.append(mfccs)\n",
    "\n",
    "    \n",
    "    mfccs = np.array(mfccs)\n",
    "    \n",
    "    mean_mfcc = np.mean(mfccs, axis=0) \n",
    "    std_mfcc = np.std(mfccs, axis=0)    \n",
    "    \n",
    "    return mean_mfcc, std_mfcc\n",
    "    \n",
    "mean_mfcc_males, std_mfcc_males = compute_mfcc_statistics(male)\n",
    "mean_mfcc_females, std_mfcc_females = compute_mfcc_statistics(female) \n",
    "\n",
    "\n",
    "\n"
   ]
  },
  {
   "cell_type": "code",
   "execution_count": 48,
   "id": "05fd6133-6f01-471a-93bf-9b010161321a",
   "metadata": {},
   "outputs": [
    {
     "data": {
      "text/plain": [
       "array([[-6.1700690e+02,  7.7920828e+00,  5.1359034e+00, ...,\n",
       "         3.3972493e-01, -8.6569629e-04, -4.7623610e-01],\n",
       "       [-5.7223523e+02,  3.0706423e+01,  9.5291958e+00, ...,\n",
       "         6.6936803e-01, -4.2785597e-01, -9.3652558e-01],\n",
       "       [-5.4989911e+02,  3.8481606e+01,  8.1716557e+00, ...,\n",
       "        -4.1240796e-01, -1.5375584e+00, -1.7751333e+00],\n",
       "       ...,\n",
       "       [-1.3246637e+02,  2.3424450e+01, -3.5210199e+00, ...,\n",
       "        -4.1233516e+00, -1.6031466e-01, -8.3340794e-01],\n",
       "       [-1.3362117e+02,  2.5668375e+01, -1.0398442e+00, ...,\n",
       "        -4.2937703e+00, -2.0692697e-01, -5.4406309e-01],\n",
       "       [-1.3135837e+02,  2.6298397e+01, -6.6587508e-01, ...,\n",
       "        -4.0134106e+00,  3.8195446e-01, -3.9027297e-01]], dtype=float32)"
      ]
     },
     "execution_count": 48,
     "metadata": {},
     "output_type": "execute_result"
    }
   ],
   "source": [
    "mean_mfcc_males"
   ]
  },
  {
   "cell_type": "code",
   "execution_count": 50,
   "id": "33981131-b9ad-455f-9dd6-0d9a6746ca19",
   "metadata": {},
   "outputs": [
    {
     "data": {
      "text/plain": [
       "array([[-5.78884949e+02,  8.99527264e+00,  8.41900635e+00, ...,\n",
       "        -5.71420729e-01, -1.47934031e+00, -1.12081718e+00],\n",
       "       [-5.50732361e+02,  3.16636105e+01,  2.17601395e+01, ...,\n",
       "        -1.03091061e+00, -8.64069641e-01, -1.68824625e+00],\n",
       "       [-5.23152039e+02,  4.42240715e+01,  2.70452881e+01, ...,\n",
       "        -4.60035038e+00, -3.04859924e+00, -3.09051108e+00],\n",
       "       ...,\n",
       "       [-1.23667625e+02,  1.73365116e+01,  1.48546708e+00, ...,\n",
       "        -6.46900272e+00,  1.41417837e+00, -2.49765563e+00],\n",
       "       [-1.24745575e+02,  1.80508556e+01,  4.17508602e+00, ...,\n",
       "        -6.58280754e+00,  2.24519396e+00, -2.09273362e+00],\n",
       "       [-1.23539658e+02,  1.73540916e+01,  4.26085472e+00, ...,\n",
       "        -5.97603512e+00,  1.53939009e+00, -2.50099635e+00]], dtype=float32)"
      ]
     },
     "execution_count": 50,
     "metadata": {},
     "output_type": "execute_result"
    }
   ],
   "source": [
    "mean_mfcc_females"
   ]
  },
  {
   "cell_type": "markdown",
   "id": "b4c05ff6-ebc3-44a4-b6ae-bdac1b130e0e",
   "metadata": {},
   "source": [
    "__The last step is visualization__\n"
   ]
  },
  {
   "cell_type": "code",
   "execution_count": 53,
   "id": "3358afbc-7ff7-4ce7-a66a-14a6befb7dbb",
   "metadata": {},
   "outputs": [],
   "source": [
    "def mfcc_implement(df, folder_path='Clips', output_file='mfcc_features.csv'):\n",
    "    global mfccs\n",
    "    mfccs = []\n",
    "    for path in df['path']:\n",
    "        full_path = os.path.join(folder_path, path)\n",
    "        mfcc = get_mfcc(full_path, output_file=output_file)  \n",
    "        mfccs.append(mfcc)\n",
    "        mfcc_list.append(mfccs)\n",
    "\n",
    "    \n",
    "    mfccs = np.array(mfccs)\n",
    "    return mfcc\n",
    "    \n",
    "mfcc_males= mfcc_implement(male,output_file='mfcc_features_male.csv')\n",
    "mfcc_males= mfcc_implement(female,output_file='mfcc_features_female.csv')"
   ]
  },
  {
   "cell_type": "code",
   "execution_count": 73,
   "id": "fc3f83bb-532e-4035-b7a5-b4b83e41bb94",
   "metadata": {},
   "outputs": [],
   "source": [
    "df_male = pd.DataFrame(mfcc_data_male)\n",
    "df_male.insert(0, 'Type', 'Male') \n",
    "\n",
    "\n",
    "df_female = pd.DataFrame(mfcc_data_female)\n",
    "df_female.insert(0, 'Type', 'Female')  \n",
    "\n",
    "\n",
    "combined_df = pd.concat([df_male, df_female], axis=0, ignore_index=True)\n",
    "\n",
    "combined_df.to_csv('combined_mfcc.csv', index=False, header=False)"
   ]
  },
  {
   "cell_type": "code",
   "execution_count": 77,
   "id": "7b499dd1-321a-4eec-bb5b-5180d186f7df",
   "metadata": {},
   "outputs": [
    {
     "data": {
      "image/png": "[encoded data removed]",
      "text/plain": [
       "<Figure size 1200x600 with 3 Axes>"
      ]
     },
     "metadata": {},
     "output_type": "display_data"
    }
   ],
   "source": [
    "combined_data = pd.read_csv('combined_mfcc.csv', header=None)\n",
    "\n",
    "male_data = combined_data[combined_data[0] == 'Male'].iloc[:, 1:].to_numpy()\n",
    "female_data = combined_data[combined_data[0] == 'Female'].iloc[:, 1:].to_numpy()\n",
    "plt.figure(figsize=(12, 6))\n",
    "\n",
    "librosa.display.specshow(male_data, x_axis='time', cmap='Blues', alpha=0.7)\n",
    "plt.colorbar(format=\"%+2.f\", label='Intensity (Male)')\n",
    "\n",
    "librosa.display.specshow(female_data, x_axis='time', cmap='Reds', alpha=0.7)\n",
    "plt.colorbar(format=\"%+2.f\", label='Intensity (Female)')\n",
    "plt.title('MFCC Comparison: Male vs. Female')\n",
    "plt.xlabel('Time')\n",
    "plt.ylabel('MFCC Coefficients')\n",
    "\n",
    "plt.legend(['Male', 'Female'], loc='upper right')\n",
    "\n",
    "plt.tight_layout()\n",
    "plt.show()\n"
   ]
  },
  {
   "cell_type": "code",
   "execution_count": null,
   "id": "1478a29b-252c-4d97-b1d1-544d6f66ce5b",
   "metadata": {},
   "outputs": [],
   "source": []
  }
 ],
 "metadata": {
  "kernelspec": {
   "display_name": "Python 3 (ipykernel)",
   "language": "python",
   "name": "python3"
  },
  "language_info": {
   "codemirror_mode": {
    "name": "ipython",
    "version": 3
   },
   "file_extension": ".py",
   "mimetype": "text/x-python",
   "name": "python",
   "nbconvert_exporter": "python",
   "pygments_lexer": "ipython3",
   "version": "3.12.4"
  }
 },
 "nbformat": 4,
 "nbformat_minor": 5
}
